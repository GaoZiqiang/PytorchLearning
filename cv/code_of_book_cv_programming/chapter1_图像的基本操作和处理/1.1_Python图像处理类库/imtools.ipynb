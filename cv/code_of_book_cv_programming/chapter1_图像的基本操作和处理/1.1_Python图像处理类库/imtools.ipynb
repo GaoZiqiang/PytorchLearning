{
 "cells": [
  {
   "cell_type": "code",
   "execution_count": 32,
   "metadata": {
    "collapsed": true
   },
   "outputs": [],
   "source": [
    "from PIL import Image\n",
    "import os"
   ]
  },
  {
   "cell_type": "code",
   "execution_count": 33,
   "metadata": {
    "collapsed": true
   },
   "outputs": [],
   "source": [
    "def get_imlist(path):\n",
    "    '''返回列表中所有JPG图像的文件名列表'''\n",
    "    return [os.path.join(path,f) for f in  os.listdir(path) if f.endswith('.jpg')]"
   ]
  },
  {
   "cell_type": "code",
   "execution_count": 34,
   "metadata": {},
   "outputs": [
    {
     "name": "stdout",
     "output_type": "stream",
     "text": [
      "filelist ['/home/gaoziqiang/tempt/data/0030_c3s1_001926_06.jpg', '/home/gaoziqiang/tempt/data/0030_c4s1_002476_03.jpg', '/home/gaoziqiang/tempt/data/0030_c2s1_001876_02.jpg']\n"
     ]
    },
    {
     "data": {
      "text/plain": [
       "['/home/gaoziqiang/tempt/data/0030_c3s1_001926_06.jpg',\n",
       " '/home/gaoziqiang/tempt/data/0030_c4s1_002476_03.jpg',\n",
       " '/home/gaoziqiang/tempt/data/0030_c2s1_001876_02.jpg']"
      ]
     },
     "execution_count": 34,
     "metadata": {},
     "output_type": "execute_result"
    }
   ],
   "source": [
    "im_path = '/home/gaoziqiang/tempt/data'\n",
    "filelist = get_imlist(im_path)\n",
    "print('filelist',filelist)\n",
    "filelist"
   ]
  },
  {
   "cell_type": "code",
   "execution_count": 35,
   "metadata": {},
   "outputs": [],
   "source": [
    "for infile in filelist:\n",
    "    outfile = os.path.splitext(infile)[0] + '.png'\n",
    "    if infile != outfile:\n",
    "        try:\n",
    "            Image.open(infile).save(outfile)# 修改文件名，将图片修改为.png格式\n",
    "        except IOError:\n",
    "            print('cannot convert',infile)\n",
    "        "
   ]
  },
  {
   "cell_type": "code",
   "execution_count": null,
   "metadata": {
    "collapsed": true
   },
   "outputs": [],
   "source": [
    "os.listdir(im_path)\n",
    "print('os.listdir(im_path)',os.listdir(im_path))\n",
    "for f in os.listdir(im_path):\n",
    "    if f.endswith('.jpg'):\n",
    "        print(f)"
   ]
  }
 ],
 "metadata": {
  "kernelspec": {
   "display_name": "Python 3",
   "language": "python",
   "name": "python3"
  },
  "language_info": {
   "codemirror_mode": {
    "name": "ipython",
    "version": 3
   },
   "file_extension": ".py",
   "mimetype": "text/x-python",
   "name": "python",
   "nbconvert_exporter": "python",
   "pygments_lexer": "ipython3",
   "version": "3.6.2"
  }
 },
 "nbformat": 4,
 "nbformat_minor": 2
}
