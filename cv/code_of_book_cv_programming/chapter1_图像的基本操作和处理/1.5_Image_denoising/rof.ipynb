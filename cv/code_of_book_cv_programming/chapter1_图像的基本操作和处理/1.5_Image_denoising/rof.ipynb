{
 "cells": [
  {
   "cell_type": "code",
   "execution_count": 1,
   "metadata": {
    "collapsed": true
   },
   "outputs": [],
   "source": [
    "# 图像去噪\n",
    "# 图像去噪是在去除图像噪声的同时，尽可能地保留图像细节和结构的处理技术。\n",
    "# 我们这里使用 ROF（Rudin-Osher-Fatemi）去噪模型。"
   ]
  },
  {
   "cell_type": "code",
   "execution_count": 3,
   "metadata": {
    "collapsed": true
   },
   "outputs": [],
   "source": [
    "# ROF模型\n",
    "from numpy import *"
   ]
  },
  {
   "cell_type": "code",
   "execution_count": 1,
   "metadata": {
    "collapsed": true
   },
   "outputs": [],
   "source": [
    "def denoise(im,U_init,tolerance=0.1,tau=0.15,tv_weight=100):\n",
    "    '''实现ROF模型\n",
    "    输入：含有噪声的输入图像（灰度图像）、U的初始值、TV正则项取值、步长、停业条件\n",
    "    输出：去噪和去除纹理后的图像、纹理残留'''\n",
    "    m,n = im.shape# 噪声图像的大小\n",
    "    \n",
    "    # 初始化\n",
    "    U = U_init\n",
    "    Px = im# 对偶域的x分量\n",
    "    Py = im# 对偶域的y分量\n",
    "    error = 1\n",
    "    \n",
    "    while (error > tolerance):\n",
    "        Uold = U\n",
    "        # 原始变量的梯度\n",
    "        GradUx = roll(U,-1,axis=1) - U# 变量U梯度的x分量\n",
    "        GradUy = roll(U,-1,axis=0) - U# 变量U梯度的y变量\n",
    "        \n",
    "        # 更新对偶变量\n",
    "        PxNew = Px + (tau/tv_weight)*GradUx\n",
    "        PyNew = Py + (tau/tv_weight)*GradUy\n",
    "        NormNew = maximum(1,sqrt(PxNew**2,PyNew**2))\n",
    "        \n",
    "        Px = PxNew/NormNew# 更新x分量（对偶）\n",
    "        Py = PyNew/NormNew# 更新y分量（对偶）\n",
    "        \n",
    "        # 更新原始变量\n",
    "        RxPx = roll(Px,1,axis=1)# 对x分量进行向右x轴平移\n",
    "        RyPy = roll(Py,1,axis=0)# 对y分量进行右y轴平移\n",
    "        \n",
    "        DivP = (Px - RxPx) + (Py - RyPy)# 对偶域的散度\n",
    "        U = im + tv_weight*DivP#更新原始变量\n",
    "        \n",
    "        # 更新误差\n",
    "        error = linalg.norm(U - Uold)/sqrt(n*m)\n",
    "        \n",
    "        return U,im-U# 去噪后的图像和纹理残余"
   ]
  },
  {
   "cell_type": "code",
   "execution_count": 4,
   "metadata": {},
   "outputs": [],
   "source": [
    "im = array(zeros((500,500)))\n",
    "im.shape\n",
    "U,T = denoise(im,im)"
   ]
  },
  {
   "cell_type": "code",
   "execution_count": null,
   "metadata": {
    "collapsed": true
   },
   "outputs": [],
   "source": []
  }
 ],
 "metadata": {
  "kernelspec": {
   "display_name": "Python 3",
   "language": "python",
   "name": "python3"
  },
  "language_info": {
   "codemirror_mode": {
    "name": "ipython",
    "version": 3
   },
   "file_extension": ".py",
   "mimetype": "text/x-python",
   "name": "python",
   "nbconvert_exporter": "python",
   "pygments_lexer": "ipython3",
   "version": "3.6.2"
  }
 },
 "nbformat": 4,
 "nbformat_minor": 2
}
