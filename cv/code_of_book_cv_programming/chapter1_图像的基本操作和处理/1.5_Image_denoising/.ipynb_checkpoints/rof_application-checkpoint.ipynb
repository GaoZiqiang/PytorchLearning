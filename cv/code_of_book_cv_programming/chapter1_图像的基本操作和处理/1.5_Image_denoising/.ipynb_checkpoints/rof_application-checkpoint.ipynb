{
 "cells": [
  {
   "cell_type": "code",
   "execution_count": 1,
   "metadata": {},
   "outputs": [],
   "source": [
    "from numpy import *\n",
    "from numpy import random\n",
    "from scipy.ndimage import filters\n",
    "import rof"
   ]
  },
  {
   "cell_type": "code",
   "execution_count": 8,
   "metadata": {},
   "outputs": [],
   "source": [
    "# 使用噪声创建合成图像\n",
    "im = zeros((500,500))\n",
    "im[100:400,100:400] = 128\n",
    "im[200:300,200:300] = 255\n",
    "im = im + 30*random.standard_normal((500,500))\n",
    "\n",
    "# rof除噪\n",
    "U,T = rof.denoise(im,im)\n",
    "# 高斯模糊处理\n",
    "G = filters.gaussian_filter(im,10)\n",
    "\n",
    "# 保存生成结果\n",
    "from scipy.misc import imsave\n",
    "imsave('synth_origin.jpg',im)\n",
    "imsave('synth_rof.jpg',U)\n",
    "imsave('synth_gaussian.jpg',G)"
   ]
  },
  {
   "cell_type": "code",
   "execution_count": 10,
   "metadata": {
    "collapsed": true
   },
   "outputs": [],
   "source": [
    "# 对实际图像进行除噪测试\n",
    "from PIL import Image\n",
    "from pylab import *\n",
    "import rof"
   ]
  },
  {
   "cell_type": "code",
   "execution_count": null,
   "metadata": {
    "collapsed": true
   },
   "outputs": [],
   "source": [
    "im = array(Image,open('demo.jpg').convert('L'))\n",
    "U,T = rof.denoise(im,im)"
   ]
  }
 ],
 "metadata": {
  "kernelspec": {
   "display_name": "Python 3",
   "language": "python",
   "name": "python3"
  },
  "language_info": {
   "codemirror_mode": {
    "name": "ipython",
    "version": 3
   },
   "file_extension": ".py",
   "mimetype": "text/x-python",
   "name": "python",
   "nbconvert_exporter": "python",
   "pygments_lexer": "ipython3",
   "version": "3.6.2"
  }
 },
 "nbformat": 4,
 "nbformat_minor": 2
}
