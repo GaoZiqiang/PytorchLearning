{
 "cells": [
  {
   "cell_type": "code",
   "execution_count": 1,
   "metadata": {
    "collapsed": true
   },
   "outputs": [],
   "source": [
    "def imresize(im,sz):\n",
    "    '''\n",
    "    使用PIL对象重新定义图像数组的大小\n",
    "    im:输入的图像array\n",
    "    sz:resize的大小，是一个tuple\n",
    "    '''\n",
    "    pil_im = Image.fromarray(uint8(im))\n",
    "    \n",
    "    return array(pil_im.resize(sz))"
   ]
  },
  {
   "cell_type": "code",
   "execution_count": 2,
   "metadata": {
    "collapsed": true
   },
   "outputs": [],
   "source": [
    "# 直方图均衡化\n",
    "def histeq(im,nbr_bins=256):\n",
    "    '''\n",
    "    对一幅灰度图像进行直方图均值化\n",
    "    '''\n",
    "    # 计算图像的直方图\n",
    "    imhist,bins = histogram(im.flatten(),nbr_bins,normed=True)\n",
    "    cdf = imhist.cumsum()# 累积分布函数\n",
    "    cdf = 255*cdf/cdf[-1]#归一化\n",
    "    # 使用累积分布函数的线性插值，计算新的像素值\n",
    "    im2 = interp(im.flatten(),bins[:-1],cdf)\n",
    "    \n",
    "    return im2.reshape(im.shape),cdf"
   ]
  }
 ],
 "metadata": {
  "kernelspec": {
   "display_name": "Python 3",
   "language": "python",
   "name": "python3"
  },
  "language_info": {
   "codemirror_mode": {
    "name": "ipython",
    "version": 3
   },
   "file_extension": ".py",
   "mimetype": "text/x-python",
   "name": "python",
   "nbconvert_exporter": "python",
   "pygments_lexer": "ipython3",
   "version": "3.6.2"
  }
 },
 "nbformat": 4,
 "nbformat_minor": 2
}
