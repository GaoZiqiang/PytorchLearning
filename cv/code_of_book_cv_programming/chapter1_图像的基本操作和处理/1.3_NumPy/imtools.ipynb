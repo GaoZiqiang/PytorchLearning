{
 "cells": [
  {
   "cell_type": "code",
   "execution_count": 10,
   "metadata": {
    "collapsed": true
   },
   "outputs": [],
   "source": [
    "from PIL import Image\n",
    "from numpy import *\n",
    "import os\n",
    "def imresize(im,sz):\n",
    "    '''\n",
    "    使用PIL对象重新定义图像数组的大小\n",
    "    @param im:输入的图像array\n",
    "    @param sz:resize的大小，是一个tuple\n",
    "    '''\n",
    "    pil_im = Image.fromarray(uint8(im))\n",
    "    \n",
    "    return array(pil_im.resize(sz))"
   ]
  },
  {
   "cell_type": "code",
   "execution_count": 2,
   "metadata": {
    "collapsed": true
   },
   "outputs": [],
   "source": [
    "# 直方图均衡化\n",
    "def histeq(im,nbr_bins=256):\n",
    "    '''\n",
    "    对一幅灰度图像进行直方图均值化\n",
    "    @param nbr_bins:直方图中使用小区间的数目\n",
    "    \n",
    "    @return 直方图均衡化后的图像以及用来做像素值映射的累积分布函数\n",
    "    '''\n",
    "    # 计算图像的直方图\n",
    "    imhist,bins = histogram(im.flatten(),nbr_bins,normed=True)\n",
    "    cdf = imhist.cumsum()# 累积分布函数\n",
    "    cdf = 255*cdf/cdf[-1]#归一化\n",
    "    # 使用累积分布函数的线性插值，计算新的像素值\n",
    "    im2 = interp(im.flatten(),bins[:-1],cdf)\n",
    "    \n",
    "    return im2.reshape(im.shape),cdf"
   ]
  },
  {
   "cell_type": "code",
   "execution_count": 5,
   "metadata": {},
   "outputs": [],
   "source": [
    "# 计算平均图像\n",
    "def compute_average(imlist):\n",
    "    '''\n",
    "    计算图像列表的平均图像\n",
    "    '''\n",
    "    # 打开第一幅图像，将其存储在浮点型数组中\n",
    "    averageim = array(Image.open(imlist[0],'f'))\n",
    "    \n",
    "    for imname in imlist[1:]:\n",
    "        try:\n",
    "            averageim += array(Image.open(imname))\n",
    "        except:\n",
    "            print(imname + '...skipped')\n",
    "    averageim /= len(imlist)\n",
    "    \n",
    "    # 返回uint8类型的平均图像\n",
    "    return array(avrageim,'uint8')"
   ]
  },
  {
   "cell_type": "code",
   "execution_count": 7,
   "metadata": {
    "collapsed": true
   },
   "outputs": [],
   "source": [
    "# 图像的主成分分析\n",
    "def pca(X):\n",
    "    '''\n",
    "    主成分分析：\n",
    "    input:矩阵X，其中该矩阵中存储训练数据，每一行为一条训练数据\n",
    "    return:投影矩阵（按照维度的重要性排序）、方差和均值\n",
    "    '''\n",
    "    # 获取维数\n",
    "    num_data,dim = X.shape\n",
    "    # 数据中心化\n",
    "    mean_X = X.mean(axis=0)\n",
    "    X = X - mean_X\n",
    "    \n",
    "    # 数据个数小于数据维度\n",
    "    if dim > num_data:\n",
    "        # PCA-使用紧致技巧\n",
    "        M = dot(X,X.T)# 协方差矩阵\n",
    "        e,EV = linalg.eigh(M)# 特征值和特征向量\n",
    "        tmp = dot(X.T,EV).T# 这就是紧致技巧\n",
    "        V = tmp[::-1]\n",
    "        S = sqrt(e)[::-1]# 对特征值进行逆转\n",
    "        for i in range(V.shape[1]):\n",
    "            V[:,i] /= S\n",
    "    else:\n",
    "        # PCA-使用SVD方法\n",
    "        U,S,V = linalg.svd(X)\n",
    "        V = V[:num_data]# 仅仅返回前num_data维的数据\n",
    "    \n",
    "    # 返回投影矩阵、方差和均值\n",
    "    return V,S,mean_X"
   ]
  },
  {
   "cell_type": "code",
   "execution_count": 11,
   "metadata": {
    "collapsed": true
   },
   "outputs": [],
   "source": [
    "# 获取文件名列表　\n",
    "def get_imlist(path):\n",
    "    '''返回列表中所有JPG图像的文件名列表'''\n",
    "    return [os.path.join(path,f) for f in  os.listdir(path) if f.endswith('.jpg')]"
   ]
  },
  {
   "cell_type": "code",
   "execution_count": null,
   "metadata": {
    "collapsed": true
   },
   "outputs": [],
   "source": []
  }
 ],
 "metadata": {
  "kernelspec": {
   "display_name": "Python 3",
   "language": "python",
   "name": "python3"
  },
  "language_info": {
   "codemirror_mode": {
    "name": "ipython",
    "version": 3
   },
   "file_extension": ".py",
   "mimetype": "text/x-python",
   "name": "python",
   "nbconvert_exporter": "python",
   "pygments_lexer": "ipython3",
   "version": "3.6.2"
  }
 },
 "nbformat": 4,
 "nbformat_minor": 2
}
