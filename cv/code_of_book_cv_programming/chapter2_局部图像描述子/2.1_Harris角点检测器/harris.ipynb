{
 "cells": [
  {
   "cell_type": "code",
   "execution_count": 1,
   "metadata": {
    "collapsed": true
   },
   "outputs": [],
   "source": [
    "# Harris角点检测器\n",
    "# Harris 角点检测算法：该算法的主要思想是，如果像素周围显示存在多于一个方向的边，我们认为该点为兴趣点。该点就称为角点。"
   ]
  },
  {
   "cell_type": "code",
   "execution_count": 15,
   "metadata": {},
   "outputs": [
    {
     "ename": "ModuleNotFoundError",
     "evalue": "No module named 'harris'",
     "output_type": "error",
     "traceback": [
      "\u001b[0;31m-----------------------------------------------------------\u001b[0m",
      "\u001b[0;31mModuleNotFoundError\u001b[0m       Traceback (most recent call last)",
      "\u001b[0;32m<ipython-input-15-d58657ce7e7d>\u001b[0m in \u001b[0;36m<module>\u001b[0;34m\u001b[0m\n\u001b[1;32m      2\u001b[0m \u001b[0;32mfrom\u001b[0m \u001b[0mnumpy\u001b[0m \u001b[0;32mimport\u001b[0m \u001b[0;34m*\u001b[0m\u001b[0;34m\u001b[0m\u001b[0m\n\u001b[1;32m      3\u001b[0m \u001b[0;32mfrom\u001b[0m \u001b[0mPIL\u001b[0m \u001b[0;32mimport\u001b[0m \u001b[0mImage\u001b[0m\u001b[0;34m\u001b[0m\u001b[0m\n\u001b[0;32m----> 4\u001b[0;31m \u001b[0;32mimport\u001b[0m \u001b[0mharris\u001b[0m\u001b[0;34m\u001b[0m\u001b[0m\n\u001b[0m",
      "\u001b[0;31mModuleNotFoundError\u001b[0m: No module named 'harris'"
     ]
    }
   ],
   "source": [
    "from scipy.ndimage import filters\n",
    "from numpy import *\n",
    "from PIL import Image\n",
    "import harris"
   ]
  },
  {
   "cell_type": "code",
   "execution_count": 7,
   "metadata": {
    "collapsed": true
   },
   "outputs": [],
   "source": [
    "def compute_harris_response(im,sigma=3):\n",
    "    '''在一幅灰度图像中，为每个像素计算Harris角点检测器响应函数'''\n",
    "    \n",
    "    # 计算导数\n",
    "    imx = zeros(im.shape)\n",
    "    filters.gaussian_filter(im,(sigma,sigma),(0,1),imx)\n",
    "    imy = zeros(im.shape)\n",
    "    filters.gaussian_filter(im,(sigma,sigma),(1,0),imy)\n",
    "    \n",
    "    # 计算Harris矩阵的分量\n",
    "    Wxx = filters.guassian_filter(imx*imx,sigma)\n",
    "    Wxy = filters.guassian_filter(imx*imy,sigma)\n",
    "    Xyy = filters.guassian_filter(imy*imy,sigma)\n",
    "    \n",
    "    # 计算特征值和迹\n",
    "    Wdet = Wxx*Wyy - Wxy**2\n",
    "    Wtr = Wxx + Wyy\n",
    "    \n",
    "    return Wdet/Wtr"
   ]
  },
  {
   "cell_type": "code",
   "execution_count": 9,
   "metadata": {
    "collapsed": true
   },
   "outputs": [],
   "source": [
    "def get_harris_points(harrism,min_dist=10,threshold=0.1):\n",
    "    '''从一幅Harris响应图像中返回角点。min_dist为分割角点和图像边界的最小像素数目'''\\\n",
    "    \n",
    "    # 寻找高于阈值的候选角点\n",
    "    corner_threshold = harrisim.max()*threshold\n",
    "    harrism_t = (harrism > corner_threshold)*1\n",
    "    \n",
    "    # 得到候选点的坐标\n",
    "    coords = array(harrism_t.nonzero()).T\n",
    "    \n",
    "    # 以及它们的Harris响应值\n",
    "    candidate_values = [harrism[c[0],c[1]] for c in coords]\n",
    "    \n",
    "    # 对候选点按照Harris响应值进行排序\n",
    "    index = argsort(candidate_values)\n",
    "    \n",
    "    # 将可行点的位置保存到数组中\n",
    "    allowed_locations = zeros(harrism.shape)\n",
    "    allowed_locations[min_dist:-min_dist,min_dist:-min_dist] = 1\n",
    "    \n",
    "    # 按照min_distance原则，选择最佳Harris点\n",
    "    filterd_coords = []\n",
    "    for i in index:\n",
    "        if allowed_locations[coords[i,0],coords[i,1]] == 1:\n",
    "            filtered_coords.append(coords[i])\n",
    "            allowed_locationsp[(coords[i,0]-min_dist):(coords[i,0]+min_dist),(coords[i,1]-min_dist):(coords[i,1]+min_dist)] = 0\n",
    "            \n",
    "            return filtered_coords\n",
    "\n",
    "def plot_harris_points(image,filterd_coords):\n",
    "    '''绘制图像中检测到的角点'''\n",
    "    \n",
    "    figure()\n",
    "    gray()\n",
    "    imshow(image)\n",
    "    plot([p[1] for p in filtered_coords],[p[0] for  p in filtered_coords],'*')\n",
    "    axis('off')\n",
    "    show()"
   ]
  },
  {
   "cell_type": "code",
   "execution_count": 13,
   "metadata": {},
   "outputs": [
    {
     "ename": "NameError",
     "evalue": "name 'harris' is not defined",
     "output_type": "error",
     "traceback": [
      "\u001b[0;31m-----------------------------------------------------------\u001b[0m",
      "\u001b[0;31mNameError\u001b[0m                 Traceback (most recent call last)",
      "\u001b[0;32m<ipython-input-13-8f53ed945fd2>\u001b[0m in \u001b[0;36m<module>\u001b[0;34m\u001b[0m\n\u001b[1;32m      1\u001b[0m \u001b[0mim\u001b[0m \u001b[0;34m=\u001b[0m \u001b[0marray\u001b[0m\u001b[0;34m(\u001b[0m\u001b[0mImage\u001b[0m\u001b[0;34m.\u001b[0m\u001b[0mopen\u001b[0m\u001b[0;34m(\u001b[0m\u001b[0;34m'demo.jpg'\u001b[0m\u001b[0;34m)\u001b[0m\u001b[0;34m.\u001b[0m\u001b[0mconvert\u001b[0m\u001b[0;34m(\u001b[0m\u001b[0;34m'L'\u001b[0m\u001b[0;34m)\u001b[0m\u001b[0;34m)\u001b[0m\u001b[0;34m\u001b[0m\u001b[0m\n\u001b[0;32m----> 2\u001b[0;31m \u001b[0mharrism\u001b[0m \u001b[0;34m=\u001b[0m \u001b[0mharris\u001b[0m\u001b[0;34m.\u001b[0m\u001b[0mcompute_harris_response\u001b[0m\u001b[0;34m(\u001b[0m\u001b[0mim\u001b[0m\u001b[0;34m)\u001b[0m\u001b[0;34m\u001b[0m\u001b[0m\n\u001b[0m\u001b[1;32m      3\u001b[0m \u001b[0mfiltered_coords\u001b[0m \u001b[0;34m=\u001b[0m \u001b[0mharris\u001b[0m\u001b[0;34m.\u001b[0m\u001b[0mget_harris_points\u001b[0m\u001b[0;34m(\u001b[0m\u001b[0mharrism\u001b[0m\u001b[0;34m,\u001b[0m\u001b[0;36m6\u001b[0m\u001b[0;34m)\u001b[0m\u001b[0;34m\u001b[0m\u001b[0m\n\u001b[1;32m      4\u001b[0m \u001b[0mharris\u001b[0m\u001b[0;34m.\u001b[0m\u001b[0mplot_harris_points\u001b[0m\u001b[0;34m(\u001b[0m\u001b[0mim\u001b[0m\u001b[0;34m,\u001b[0m\u001b[0mfiltered_coords\u001b[0m\u001b[0;34m)\u001b[0m\u001b[0;34m\u001b[0m\u001b[0m\n",
      "\u001b[0;31mNameError\u001b[0m: name 'harris' is not defined"
     ]
    }
   ],
   "source": [
    "im = array(Image.open('demo.jpg').convert('L'))\n",
    "harrism = harris.compute_harris_response(im)\n",
    "filtered_coords = harris.get_harris_points(harrism,6)\n",
    "harris.plot_harris_points(im,filtered_coords)"
   ]
  }
 ],
 "metadata": {
  "kernelspec": {
   "display_name": "Python 3",
   "language": "python",
   "name": "python3"
  },
  "language_info": {
   "codemirror_mode": {
    "name": "ipython",
    "version": 3
   },
   "file_extension": ".py",
   "mimetype": "text/x-python",
   "name": "python",
   "nbconvert_exporter": "python",
   "pygments_lexer": "ipython3",
   "version": "3.6.2"
  }
 },
 "nbformat": 4,
 "nbformat_minor": 2
}
